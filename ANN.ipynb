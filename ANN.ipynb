{
 "cells": [
  {
   "cell_type": "code",
   "execution_count": 1,
   "metadata": {
    "collapsed": true
   },
   "outputs": [],
   "source": [
    "import pandas as pd\n",
    "import numpy as np"
   ]
  },
  {
   "cell_type": "markdown",
   "metadata": {},
   "source": [
    "## Importing Data and Cleaning it"
   ]
  },
  {
   "cell_type": "code",
   "execution_count": 36,
   "metadata": {
    "collapsed": true
   },
   "outputs": [],
   "source": [
    "dataset=pd.read_csv('Churn_Modelling.csv')"
   ]
  },
  {
   "cell_type": "code",
   "execution_count": 37,
   "metadata": {},
   "outputs": [
    {
     "data": {
      "text/html": [
       "<div>\n",
       "<style>\n",
       "    .dataframe thead tr:only-child th {\n",
       "        text-align: right;\n",
       "    }\n",
       "\n",
       "    .dataframe thead th {\n",
       "        text-align: left;\n",
       "    }\n",
       "\n",
       "    .dataframe tbody tr th {\n",
       "        vertical-align: top;\n",
       "    }\n",
       "</style>\n",
       "<table border=\"1\" class=\"dataframe\">\n",
       "  <thead>\n",
       "    <tr style=\"text-align: right;\">\n",
       "      <th></th>\n",
       "      <th>RowNumber</th>\n",
       "      <th>CustomerId</th>\n",
       "      <th>Surname</th>\n",
       "      <th>CreditScore</th>\n",
       "      <th>Geography</th>\n",
       "      <th>Gender</th>\n",
       "      <th>Age</th>\n",
       "      <th>Tenure</th>\n",
       "      <th>Balance</th>\n",
       "      <th>NumOfProducts</th>\n",
       "      <th>HasCrCard</th>\n",
       "      <th>IsActiveMember</th>\n",
       "      <th>EstimatedSalary</th>\n",
       "      <th>Exited</th>\n",
       "    </tr>\n",
       "  </thead>\n",
       "  <tbody>\n",
       "    <tr>\n",
       "      <th>0</th>\n",
       "      <td>1</td>\n",
       "      <td>15634602</td>\n",
       "      <td>Hargrave</td>\n",
       "      <td>619</td>\n",
       "      <td>France</td>\n",
       "      <td>Female</td>\n",
       "      <td>42</td>\n",
       "      <td>2</td>\n",
       "      <td>0.00</td>\n",
       "      <td>1</td>\n",
       "      <td>1</td>\n",
       "      <td>1</td>\n",
       "      <td>101348.88</td>\n",
       "      <td>1</td>\n",
       "    </tr>\n",
       "    <tr>\n",
       "      <th>1</th>\n",
       "      <td>2</td>\n",
       "      <td>15647311</td>\n",
       "      <td>Hill</td>\n",
       "      <td>608</td>\n",
       "      <td>Spain</td>\n",
       "      <td>Female</td>\n",
       "      <td>41</td>\n",
       "      <td>1</td>\n",
       "      <td>83807.86</td>\n",
       "      <td>1</td>\n",
       "      <td>0</td>\n",
       "      <td>1</td>\n",
       "      <td>112542.58</td>\n",
       "      <td>0</td>\n",
       "    </tr>\n",
       "    <tr>\n",
       "      <th>2</th>\n",
       "      <td>3</td>\n",
       "      <td>15619304</td>\n",
       "      <td>Onio</td>\n",
       "      <td>502</td>\n",
       "      <td>France</td>\n",
       "      <td>Female</td>\n",
       "      <td>42</td>\n",
       "      <td>8</td>\n",
       "      <td>159660.80</td>\n",
       "      <td>3</td>\n",
       "      <td>1</td>\n",
       "      <td>0</td>\n",
       "      <td>113931.57</td>\n",
       "      <td>1</td>\n",
       "    </tr>\n",
       "    <tr>\n",
       "      <th>3</th>\n",
       "      <td>4</td>\n",
       "      <td>15701354</td>\n",
       "      <td>Boni</td>\n",
       "      <td>699</td>\n",
       "      <td>France</td>\n",
       "      <td>Female</td>\n",
       "      <td>39</td>\n",
       "      <td>1</td>\n",
       "      <td>0.00</td>\n",
       "      <td>2</td>\n",
       "      <td>0</td>\n",
       "      <td>0</td>\n",
       "      <td>93826.63</td>\n",
       "      <td>0</td>\n",
       "    </tr>\n",
       "    <tr>\n",
       "      <th>4</th>\n",
       "      <td>5</td>\n",
       "      <td>15737888</td>\n",
       "      <td>Mitchell</td>\n",
       "      <td>850</td>\n",
       "      <td>Spain</td>\n",
       "      <td>Female</td>\n",
       "      <td>43</td>\n",
       "      <td>2</td>\n",
       "      <td>125510.82</td>\n",
       "      <td>1</td>\n",
       "      <td>1</td>\n",
       "      <td>1</td>\n",
       "      <td>79084.10</td>\n",
       "      <td>0</td>\n",
       "    </tr>\n",
       "  </tbody>\n",
       "</table>\n",
       "</div>"
      ],
      "text/plain": [
       "   RowNumber  CustomerId   Surname  CreditScore Geography  Gender  Age  \\\n",
       "0          1    15634602  Hargrave          619    France  Female   42   \n",
       "1          2    15647311      Hill          608     Spain  Female   41   \n",
       "2          3    15619304      Onio          502    France  Female   42   \n",
       "3          4    15701354      Boni          699    France  Female   39   \n",
       "4          5    15737888  Mitchell          850     Spain  Female   43   \n",
       "\n",
       "   Tenure    Balance  NumOfProducts  HasCrCard  IsActiveMember  \\\n",
       "0       2       0.00              1          1               1   \n",
       "1       1   83807.86              1          0               1   \n",
       "2       8  159660.80              3          1               0   \n",
       "3       1       0.00              2          0               0   \n",
       "4       2  125510.82              1          1               1   \n",
       "\n",
       "   EstimatedSalary  Exited  \n",
       "0        101348.88       1  \n",
       "1        112542.58       0  \n",
       "2        113931.57       1  \n",
       "3         93826.63       0  \n",
       "4         79084.10       0  "
      ]
     },
     "execution_count": 37,
     "metadata": {},
     "output_type": "execute_result"
    }
   ],
   "source": [
    "dataset.head()"
   ]
  },
  {
   "cell_type": "code",
   "execution_count": 38,
   "metadata": {},
   "outputs": [],
   "source": [
    "X = dataset.iloc[:, 3:13].values\n",
    "y = dataset.iloc[:, 13].values"
   ]
  },
  {
   "cell_type": "markdown",
   "metadata": {},
   "source": [
    "Preprocessing Data"
   ]
  },
  {
   "cell_type": "code",
   "execution_count": 39,
   "metadata": {
    "collapsed": true
   },
   "outputs": [],
   "source": [
    "from sklearn.preprocessing import LabelEncoder, OneHotEncoder\n",
    "labelencoder_X_1 = LabelEncoder()\n",
    "X[:, 1] = labelencoder_X_1.fit_transform(X[:, 1])\n",
    "labelencoder_X_2 = LabelEncoder()\n",
    "X[:, 2] = labelencoder_X_2.fit_transform(X[:, 2])\n",
    "onehotencoder = OneHotEncoder(categorical_features = [1])\n",
    "X = onehotencoder.fit_transform(X).toarray()\n",
    "X = X[:, 1:]"
   ]
  },
  {
   "cell_type": "markdown",
   "metadata": {},
   "source": [
    "Splitting the Data into Train-Test Set"
   ]
  },
  {
   "cell_type": "code",
   "execution_count": 42,
   "metadata": {
    "collapsed": true
   },
   "outputs": [],
   "source": [
    "from sklearn.model_selection import train_test_split\n",
    "X_train, X_test, y_train, y_test = train_test_split(X, y, test_size = 0.2, random_state = 0)\n"
   ]
  },
  {
   "cell_type": "markdown",
   "metadata": {},
   "source": [
    "Scaling the data"
   ]
  },
  {
   "cell_type": "code",
   "execution_count": 44,
   "metadata": {
    "collapsed": true
   },
   "outputs": [],
   "source": [
    "from sklearn.preprocessing import StandardScaler\n",
    "sc = StandardScaler()\n",
    "X_train = sc.fit_transform(X_train)\n",
    "X_test = sc.transform(X_test)"
   ]
  },
  {
   "cell_type": "code",
   "execution_count": 46,
   "metadata": {},
   "outputs": [
    {
     "data": {
      "text/plain": [
       "array([[-0.5698444 ,  1.74309049,  0.16958176, ...,  0.64259497,\n",
       "        -1.03227043,  1.10643166],\n",
       "       [ 1.75486502, -0.57369368, -2.30455945, ...,  0.64259497,\n",
       "         0.9687384 , -0.74866447],\n",
       "       [-0.5698444 , -0.57369368, -1.19119591, ...,  0.64259497,\n",
       "        -1.03227043,  1.48533467],\n",
       "       ..., \n",
       "       [-0.5698444 , -0.57369368,  0.9015152 , ...,  0.64259497,\n",
       "        -1.03227043,  1.41231994],\n",
       "       [-0.5698444 ,  1.74309049, -0.62420521, ...,  0.64259497,\n",
       "         0.9687384 ,  0.84432121],\n",
       "       [ 1.75486502, -0.57369368, -0.28401079, ...,  0.64259497,\n",
       "        -1.03227043,  0.32472465]])"
      ]
     },
     "execution_count": 46,
     "metadata": {},
     "output_type": "execute_result"
    }
   ],
   "source": [
    "X_train"
   ]
  },
  {
   "cell_type": "code",
   "execution_count": 47,
   "metadata": {},
   "outputs": [
    {
     "data": {
      "text/plain": [
       "array([[ 1.75486502, -0.57369368, -0.55204276, ...,  0.64259497,\n",
       "         0.9687384 ,  1.61085707],\n",
       "       [-0.5698444 , -0.57369368, -1.31490297, ...,  0.64259497,\n",
       "        -1.03227043,  0.49587037],\n",
       "       [-0.5698444 ,  1.74309049,  0.57162971, ...,  0.64259497,\n",
       "         0.9687384 , -0.42478674],\n",
       "       ..., \n",
       "       [-0.5698444 ,  1.74309049, -0.74791227, ...,  0.64259497,\n",
       "        -1.03227043,  0.71888467],\n",
       "       [ 1.75486502, -0.57369368, -0.00566991, ...,  0.64259497,\n",
       "         0.9687384 , -1.54507805],\n",
       "       [ 1.75486502, -0.57369368, -0.79945688, ...,  0.64259497,\n",
       "        -1.03227043,  1.61255917]])"
      ]
     },
     "execution_count": 47,
     "metadata": {},
     "output_type": "execute_result"
    }
   ],
   "source": [
    "X_test"
   ]
  },
  {
   "cell_type": "markdown",
   "metadata": {},
   "source": [
    "# Building the ANN"
   ]
  },
  {
   "cell_type": "code",
   "execution_count": 48,
   "metadata": {},
   "outputs": [],
   "source": [
    "import keras\n",
    "from keras.models import Sequential\n",
    "from keras.layers import Dense"
   ]
  },
  {
   "cell_type": "markdown",
   "metadata": {},
   "source": [
    "Initializing the ANN"
   ]
  },
  {
   "cell_type": "code",
   "execution_count": 55,
   "metadata": {
    "collapsed": true
   },
   "outputs": [],
   "source": [
    "classifier=Sequential()"
   ]
  },
  {
   "cell_type": "markdown",
   "metadata": {
    "collapsed": true
   },
   "source": [
    "Adding Input layer"
   ]
  },
  {
   "cell_type": "code",
   "execution_count": 56,
   "metadata": {
    "collapsed": true
   },
   "outputs": [],
   "source": [
    "classifier.add(Dense(units=6,kernel_initializer='uniform',activation='relu',input_dim=11))"
   ]
  },
  {
   "cell_type": "markdown",
   "metadata": {},
   "source": [
    "Adding first hidden layer"
   ]
  },
  {
   "cell_type": "code",
   "execution_count": 57,
   "metadata": {
    "collapsed": true
   },
   "outputs": [],
   "source": [
    "classifier.add(Dense(units=6,kernel_initializer='uniform',activation='relu'))"
   ]
  },
  {
   "cell_type": "markdown",
   "metadata": {},
   "source": [
    "Adding output layer"
   ]
  },
  {
   "cell_type": "code",
   "execution_count": 58,
   "metadata": {
    "collapsed": true
   },
   "outputs": [],
   "source": [
    "classifier.add(Dense(units=1,kernel_initializer='uniform',activation='sigmoid'))"
   ]
  },
  {
   "cell_type": "markdown",
   "metadata": {},
   "source": [
    "Compiling The ANN"
   ]
  },
  {
   "cell_type": "code",
   "execution_count": 59,
   "metadata": {
    "collapsed": true
   },
   "outputs": [],
   "source": [
    "classifier.compile(optimizer='adam',loss='binary_crossentropy',metrics=['accuracy'])"
   ]
  },
  {
   "cell_type": "markdown",
   "metadata": {},
   "source": [
    "Fitting the ANN to the training set"
   ]
  },
  {
   "cell_type": "code",
   "execution_count": 60,
   "metadata": {},
   "outputs": [
    {
     "name": "stdout",
     "output_type": "stream",
     "text": [
      "Epoch 1/100\n",
      "8000/8000 [==============================] - 8s 1ms/step - loss: 0.4862 - acc: 0.7960\n",
      "Epoch 2/100\n",
      "8000/8000 [==============================] - 5s 685us/step - loss: 0.4294 - acc: 0.7960\n",
      "Epoch 3/100\n",
      "8000/8000 [==============================] - 6s 703us/step - loss: 0.4240 - acc: 0.7960\n",
      "Epoch 4/100\n",
      "8000/8000 [==============================] - 6s 745us/step - loss: 0.4196 - acc: 0.8146\n",
      "Epoch 5/100\n",
      "8000/8000 [==============================] - 6s 742us/step - loss: 0.4168 - acc: 0.8264\n",
      "Epoch 6/100\n",
      "8000/8000 [==============================] - 6s 758us/step - loss: 0.4151 - acc: 0.8269\n",
      "Epoch 7/100\n",
      "8000/8000 [==============================] - 6s 728us/step - loss: 0.4136 - acc: 0.8285\n",
      "Epoch 8/100\n",
      "8000/8000 [==============================] - 6s 724us/step - loss: 0.4124 - acc: 0.8311\n",
      "Epoch 9/100\n",
      "8000/8000 [==============================] - 6s 727us/step - loss: 0.4109 - acc: 0.8312\n",
      "Epoch 10/100\n",
      "8000/8000 [==============================] - 6s 714us/step - loss: 0.4106 - acc: 0.8344\n",
      "Epoch 11/100\n",
      "8000/8000 [==============================] - 6s 717us/step - loss: 0.4091 - acc: 0.8330\n",
      "Epoch 12/100\n",
      "8000/8000 [==============================] - 5s 597us/step - loss: 0.4086 - acc: 0.8346\n",
      "Epoch 13/100\n",
      "8000/8000 [==============================] - 4s 562us/step - loss: 0.4073 - acc: 0.8340\n",
      "Epoch 14/100\n",
      "8000/8000 [==============================] - 6s 713us/step - loss: 0.4077 - acc: 0.8346\n",
      "Epoch 15/100\n",
      "8000/8000 [==============================] - 6s 719us/step - loss: 0.4071 - acc: 0.8355\n",
      "Epoch 16/100\n",
      "8000/8000 [==============================] - 6s 714us/step - loss: 0.4064 - acc: 0.8349\n",
      "Epoch 17/100\n",
      "8000/8000 [==============================] - 6s 703us/step - loss: 0.4056 - acc: 0.8347\n",
      "Epoch 18/100\n",
      "8000/8000 [==============================] - 6s 723us/step - loss: 0.4057 - acc: 0.8351\n",
      "Epoch 19/100\n",
      "8000/8000 [==============================] - 5s 639us/step - loss: 0.4051 - acc: 0.8349\n",
      "Epoch 20/100\n",
      "8000/8000 [==============================] - 5s 610us/step - loss: 0.4051 - acc: 0.8351\n",
      "Epoch 21/100\n",
      "8000/8000 [==============================] - 5s 662us/step - loss: 0.4041 - acc: 0.8355\n",
      "Epoch 22/100\n",
      "8000/8000 [==============================] - 5s 682us/step - loss: 0.4046 - acc: 0.8346\n",
      "Epoch 23/100\n",
      "8000/8000 [==============================] - 6s 706us/step - loss: 0.4043 - acc: 0.8329\n",
      "Epoch 24/100\n",
      "8000/8000 [==============================] - 5s 675us/step - loss: 0.4042 - acc: 0.8355\n",
      "Epoch 25/100\n",
      "8000/8000 [==============================] - 6s 704us/step - loss: 0.4040 - acc: 0.8332\n",
      "Epoch 26/100\n",
      "8000/8000 [==============================] - 5s 660us/step - loss: 0.4032 - acc: 0.8351\n",
      "Epoch 27/100\n",
      "8000/8000 [==============================] - 5s 639us/step - loss: 0.4033 - acc: 0.8332\n",
      "Epoch 28/100\n",
      "8000/8000 [==============================] - 5s 611us/step - loss: 0.4033 - acc: 0.8349\n",
      "Epoch 29/100\n",
      "8000/8000 [==============================] - 4s 562us/step - loss: 0.4033 - acc: 0.8349\n",
      "Epoch 30/100\n",
      "8000/8000 [==============================] - 4s 490us/step - loss: 0.4038 - acc: 0.8352\n",
      "Epoch 31/100\n",
      "8000/8000 [==============================] - 3s 393us/step - loss: 0.4029 - acc: 0.8352\n",
      "Epoch 32/100\n",
      "8000/8000 [==============================] - 4s 503us/step - loss: 0.4028 - acc: 0.8352\n",
      "Epoch 33/100\n",
      "8000/8000 [==============================] - 4s 530us/step - loss: 0.4028 - acc: 0.8357\n",
      "Epoch 34/100\n",
      "8000/8000 [==============================] - 4s 500us/step - loss: 0.4022 - acc: 0.8330\n",
      "Epoch 35/100\n",
      "8000/8000 [==============================] - 4s 460us/step - loss: 0.4027 - acc: 0.8357\n",
      "Epoch 36/100\n",
      "8000/8000 [==============================] - 3s 422us/step - loss: 0.4028 - acc: 0.8352\n",
      "Epoch 37/100\n",
      "8000/8000 [==============================] - 3s 410us/step - loss: 0.4019 - acc: 0.8340\n",
      "Epoch 38/100\n",
      "8000/8000 [==============================] - ETA: 0s - loss: 0.4020 - acc: 0.835 - 3s 423us/step - loss: 0.4022 - acc: 0.8355\n",
      "Epoch 39/100\n",
      "8000/8000 [==============================] - 3s 388us/step - loss: 0.4022 - acc: 0.8362\n",
      "Epoch 40/100\n",
      "8000/8000 [==============================] - 4s 460us/step - loss: 0.4021 - acc: 0.8339\n",
      "Epoch 41/100\n",
      "8000/8000 [==============================] - 3s 426us/step - loss: 0.4021 - acc: 0.8354\n",
      "Epoch 42/100\n",
      "8000/8000 [==============================] - 4s 511us/step - loss: 0.4014 - acc: 0.8344\n",
      "Epoch 43/100\n",
      "8000/8000 [==============================] - 3s 428us/step - loss: 0.4020 - acc: 0.8339\n",
      "Epoch 44/100\n",
      "8000/8000 [==============================] - 4s 504us/step - loss: 0.4012 - acc: 0.8342\n",
      "Epoch 45/100\n",
      "8000/8000 [==============================] - 4s 499us/step - loss: 0.4013 - acc: 0.8350\n",
      "Epoch 46/100\n",
      "8000/8000 [==============================] - 4s 496us/step - loss: 0.4019 - acc: 0.8337\n",
      "Epoch 47/100\n",
      "8000/8000 [==============================] - 4s 464us/step - loss: 0.4014 - acc: 0.8337\n",
      "Epoch 48/100\n",
      "8000/8000 [==============================] - 4s 490us/step - loss: 0.4016 - acc: 0.8345\n",
      "Epoch 49/100\n",
      "8000/8000 [==============================] - 4s 483us/step - loss: 0.4006 - acc: 0.8360\n",
      "Epoch 50/100\n",
      "8000/8000 [==============================] - 4s 452us/step - loss: 0.4013 - acc: 0.8352\n",
      "Epoch 51/100\n",
      "8000/8000 [==============================] - 4s 464us/step - loss: 0.4014 - acc: 0.8346\n",
      "Epoch 52/100\n",
      "8000/8000 [==============================] - 3s 433us/step - loss: 0.4008 - acc: 0.8347\n",
      "Epoch 53/100\n",
      "8000/8000 [==============================] - 4s 552us/step - loss: 0.4009 - acc: 0.8350\n",
      "Epoch 54/100\n",
      "8000/8000 [==============================] - 4s 521us/step - loss: 0.4011 - acc: 0.8341\n",
      "Epoch 55/100\n",
      "8000/8000 [==============================] - 4s 542us/step - loss: 0.4009 - acc: 0.8352\n",
      "Epoch 56/100\n",
      "8000/8000 [==============================] - 4s 490us/step - loss: 0.4002 - acc: 0.8365\n",
      "Epoch 57/100\n",
      "8000/8000 [==============================] - 4s 450us/step - loss: 0.4012 - acc: 0.8329\n",
      "Epoch 58/100\n",
      "8000/8000 [==============================] - 4s 440us/step - loss: 0.4013 - acc: 0.8356\n",
      "Epoch 59/100\n",
      "8000/8000 [==============================] - 3s 424us/step - loss: 0.4002 - acc: 0.8347\n",
      "Epoch 60/100\n",
      "8000/8000 [==============================] - 3s 425us/step - loss: 0.4011 - acc: 0.8341\n",
      "Epoch 61/100\n",
      "8000/8000 [==============================] - 3s 378us/step - loss: 0.4007 - acc: 0.8345\n",
      "Epoch 62/100\n",
      "8000/8000 [==============================] - 3s 385us/step - loss: 0.4006 - acc: 0.8357\n",
      "Epoch 63/100\n",
      "8000/8000 [==============================] - 3s 380us/step - loss: 0.4009 - acc: 0.8346\n",
      "Epoch 64/100\n",
      "8000/8000 [==============================] - 3s 395us/step - loss: 0.4008 - acc: 0.8341\n",
      "Epoch 65/100\n",
      "8000/8000 [==============================] - 3s 392us/step - loss: 0.4005 - acc: 0.8354\n",
      "Epoch 66/100\n",
      "8000/8000 [==============================] - 3s 399us/step - loss: 0.4006 - acc: 0.8340\n",
      "Epoch 67/100\n",
      "8000/8000 [==============================] - 3s 394us/step - loss: 0.4003 - acc: 0.8350\n",
      "Epoch 68/100\n",
      "8000/8000 [==============================] - 3s 401us/step - loss: 0.4005 - acc: 0.8342\n",
      "Epoch 69/100\n",
      "8000/8000 [==============================] - 3s 417us/step - loss: 0.4000 - acc: 0.8356\n",
      "Epoch 70/100\n",
      "8000/8000 [==============================] - 4s 488us/step - loss: 0.4003 - acc: 0.8357\n",
      "Epoch 71/100\n",
      "8000/8000 [==============================] - 3s 375us/step - loss: 0.4006 - acc: 0.8322\n",
      "Epoch 72/100\n",
      "8000/8000 [==============================] - 3s 372us/step - loss: 0.4005 - acc: 0.8350\n",
      "Epoch 73/100\n",
      "8000/8000 [==============================] - 3s 382us/step - loss: 0.4007 - acc: 0.8334\n",
      "Epoch 74/100\n",
      "8000/8000 [==============================] - 3s 381us/step - loss: 0.4002 - acc: 0.8351\n",
      "Epoch 75/100\n",
      "8000/8000 [==============================] - 3s 406us/step - loss: 0.4000 - acc: 0.8347\n",
      "Epoch 76/100\n",
      "8000/8000 [==============================] - 3s 410us/step - loss: 0.4004 - acc: 0.8349\n",
      "Epoch 77/100\n",
      "8000/8000 [==============================] - 3s 380us/step - loss: 0.4007 - acc: 0.8361\n",
      "Epoch 78/100\n",
      "8000/8000 [==============================] - 3s 377us/step - loss: 0.4002 - acc: 0.8350\n",
      "Epoch 79/100\n",
      "8000/8000 [==============================] - 4s 484us/step - loss: 0.4005 - acc: 0.8361\n",
      "Epoch 80/100\n",
      "8000/8000 [==============================] - 4s 469us/step - loss: 0.4006 - acc: 0.8340\n",
      "Epoch 81/100\n"
     ]
    },
    {
     "name": "stdout",
     "output_type": "stream",
     "text": [
      "8000/8000 [==============================] - 4s 519us/step - loss: 0.4000 - acc: 0.8335\n",
      "Epoch 82/100\n",
      "8000/8000 [==============================] - 3s 368us/step - loss: 0.4004 - acc: 0.8350\n",
      "Epoch 83/100\n",
      "8000/8000 [==============================] - 3s 422us/step - loss: 0.4001 - acc: 0.8359\n",
      "Epoch 84/100\n",
      "8000/8000 [==============================] - 4s 458us/step - loss: 0.4000 - acc: 0.8340\n",
      "Epoch 85/100\n",
      "8000/8000 [==============================] - 3s 415us/step - loss: 0.4000 - acc: 0.8345\n",
      "Epoch 86/100\n",
      "8000/8000 [==============================] - 3s 424us/step - loss: 0.4004 - acc: 0.8356\n",
      "Epoch 87/100\n",
      "8000/8000 [==============================] - 3s 389us/step - loss: 0.4003 - acc: 0.8349\n",
      "Epoch 88/100\n",
      "8000/8000 [==============================] - 4s 439us/step - loss: 0.4001 - acc: 0.8341\n",
      "Epoch 89/100\n",
      "8000/8000 [==============================] - 3s 413us/step - loss: 0.4000 - acc: 0.8339\n",
      "Epoch 90/100\n",
      "8000/8000 [==============================] - 3s 403us/step - loss: 0.4004 - acc: 0.8350\n",
      "Epoch 91/100\n",
      "8000/8000 [==============================] - 3s 416us/step - loss: 0.4003 - acc: 0.8347\n",
      "Epoch 92/100\n",
      "8000/8000 [==============================] - 4s 442us/step - loss: 0.4005 - acc: 0.8349\n",
      "Epoch 93/100\n",
      "8000/8000 [==============================] - 4s 500us/step - loss: 0.3999 - acc: 0.8355 0s - loss: 0.39\n",
      "Epoch 94/100\n",
      "8000/8000 [==============================] - 4s 470us/step - loss: 0.4001 - acc: 0.8347\n",
      "Epoch 95/100\n",
      "8000/8000 [==============================] - 4s 452us/step - loss: 0.3999 - acc: 0.8340\n",
      "Epoch 96/100\n",
      "8000/8000 [==============================] - 4s 493us/step - loss: 0.3997 - acc: 0.8352\n",
      "Epoch 97/100\n",
      "8000/8000 [==============================] - 4s 482us/step - loss: 0.4002 - acc: 0.8357\n",
      "Epoch 98/100\n",
      "8000/8000 [==============================] - 4s 495us/step - loss: 0.4001 - acc: 0.8356\n",
      "Epoch 99/100\n",
      "8000/8000 [==============================] - 4s 470us/step - loss: 0.4001 - acc: 0.8340\n",
      "Epoch 100/100\n",
      "8000/8000 [==============================] - 4s 438us/step - loss: 0.4004 - acc: 0.8346\n"
     ]
    },
    {
     "data": {
      "text/plain": [
       "<keras.callbacks.History at 0x3bbd6c2358>"
      ]
     },
     "execution_count": 60,
     "metadata": {},
     "output_type": "execute_result"
    }
   ],
   "source": [
    "classifier.fit(X_train,y_train,batch_size=10,epochs=100)"
   ]
  },
  {
   "cell_type": "markdown",
   "metadata": {},
   "source": [
    "# # Making Predictions and Evaluating the Model"
   ]
  },
  {
   "cell_type": "markdown",
   "metadata": {},
   "source": [
    "Predicting the Test result"
   ]
  },
  {
   "cell_type": "code",
   "execution_count": 62,
   "metadata": {},
   "outputs": [],
   "source": [
    "y_pred=classifier.predict(X_test)\n",
    "y_pred=(y_pred > 0.5)"
   ]
  },
  {
   "cell_type": "markdown",
   "metadata": {},
   "source": [
    "Making the confusion matrix"
   ]
  },
  {
   "cell_type": "code",
   "execution_count": 63,
   "metadata": {
    "collapsed": true
   },
   "outputs": [],
   "source": [
    "from sklearn.metrics import confusion_matrix\n",
    "cm=confusion_matrix(y_test,y_pred)"
   ]
  },
  {
   "cell_type": "code",
   "execution_count": 64,
   "metadata": {},
   "outputs": [
    {
     "data": {
      "text/plain": [
       "array([[1548,   47],\n",
       "       [ 269,  136]], dtype=int64)"
      ]
     },
     "execution_count": 64,
     "metadata": {},
     "output_type": "execute_result"
    }
   ],
   "source": [
    "cm"
   ]
  },
  {
   "cell_type": "code",
   "execution_count": null,
   "metadata": {
    "collapsed": true
   },
   "outputs": [],
   "source": []
  }
 ],
 "metadata": {
  "kernelspec": {
   "display_name": "Python 3",
   "language": "python",
   "name": "python3"
  },
  "language_info": {
   "codemirror_mode": {
    "name": "ipython",
    "version": 3
   },
   "file_extension": ".py",
   "mimetype": "text/x-python",
   "name": "python",
   "nbconvert_exporter": "python",
   "pygments_lexer": "ipython3",
   "version": "3.5.4"
  }
 },
 "nbformat": 4,
 "nbformat_minor": 2
}

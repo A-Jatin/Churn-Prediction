{
 "cells": [
  {
   "cell_type": "code",
   "execution_count": 1,
   "metadata": {
    "collapsed": true
   },
   "outputs": [],
   "source": [
    "import pandas as pd\n",
    "import numpy as np"
   ]
  },
  {
   "cell_type": "markdown",
   "metadata": {},
   "source": [
    "## Importing Data and Cleaning it"
   ]
  },
  {
   "cell_type": "code",
   "execution_count": 2,
   "metadata": {
    "collapsed": true
   },
   "outputs": [],
   "source": [
    "dataset=pd.read_csv('Churn_Modelling.csv')"
   ]
  },
  {
   "cell_type": "code",
   "execution_count": 3,
   "metadata": {},
   "outputs": [
    {
     "name": "stdout",
     "output_type": "stream",
     "text": [
      "<class 'pandas.core.frame.DataFrame'>\n",
      "RangeIndex: 10000 entries, 0 to 9999\n",
      "Data columns (total 14 columns):\n",
      "RowNumber          10000 non-null int64\n",
      "CustomerId         10000 non-null int64\n",
      "Surname            10000 non-null object\n",
      "CreditScore        10000 non-null int64\n",
      "Geography          10000 non-null object\n",
      "Gender             10000 non-null object\n",
      "Age                10000 non-null int64\n",
      "Tenure             10000 non-null int64\n",
      "Balance            10000 non-null float64\n",
      "NumOfProducts      10000 non-null int64\n",
      "HasCrCard          10000 non-null int64\n",
      "IsActiveMember     10000 non-null int64\n",
      "EstimatedSalary    10000 non-null float64\n",
      "Exited             10000 non-null int64\n",
      "dtypes: float64(2), int64(9), object(3)\n",
      "memory usage: 1.1+ MB\n"
     ]
    }
   ],
   "source": [
    "dataset.info()"
   ]
  },
  {
   "cell_type": "code",
   "execution_count": 4,
   "metadata": {},
   "outputs": [
    {
     "data": {
      "text/html": [
       "<div>\n",
       "<style>\n",
       "    .dataframe thead tr:only-child th {\n",
       "        text-align: right;\n",
       "    }\n",
       "\n",
       "    .dataframe thead th {\n",
       "        text-align: left;\n",
       "    }\n",
       "\n",
       "    .dataframe tbody tr th {\n",
       "        vertical-align: top;\n",
       "    }\n",
       "</style>\n",
       "<table border=\"1\" class=\"dataframe\">\n",
       "  <thead>\n",
       "    <tr style=\"text-align: right;\">\n",
       "      <th></th>\n",
       "      <th>RowNumber</th>\n",
       "      <th>CustomerId</th>\n",
       "      <th>Surname</th>\n",
       "      <th>CreditScore</th>\n",
       "      <th>Geography</th>\n",
       "      <th>Gender</th>\n",
       "      <th>Age</th>\n",
       "      <th>Tenure</th>\n",
       "      <th>Balance</th>\n",
       "      <th>NumOfProducts</th>\n",
       "      <th>HasCrCard</th>\n",
       "      <th>IsActiveMember</th>\n",
       "      <th>EstimatedSalary</th>\n",
       "      <th>Exited</th>\n",
       "    </tr>\n",
       "  </thead>\n",
       "  <tbody>\n",
       "    <tr>\n",
       "      <th>0</th>\n",
       "      <td>1</td>\n",
       "      <td>15634602</td>\n",
       "      <td>Hargrave</td>\n",
       "      <td>619</td>\n",
       "      <td>France</td>\n",
       "      <td>Female</td>\n",
       "      <td>42</td>\n",
       "      <td>2</td>\n",
       "      <td>0.00</td>\n",
       "      <td>1</td>\n",
       "      <td>1</td>\n",
       "      <td>1</td>\n",
       "      <td>101348.88</td>\n",
       "      <td>1</td>\n",
       "    </tr>\n",
       "    <tr>\n",
       "      <th>1</th>\n",
       "      <td>2</td>\n",
       "      <td>15647311</td>\n",
       "      <td>Hill</td>\n",
       "      <td>608</td>\n",
       "      <td>Spain</td>\n",
       "      <td>Female</td>\n",
       "      <td>41</td>\n",
       "      <td>1</td>\n",
       "      <td>83807.86</td>\n",
       "      <td>1</td>\n",
       "      <td>0</td>\n",
       "      <td>1</td>\n",
       "      <td>112542.58</td>\n",
       "      <td>0</td>\n",
       "    </tr>\n",
       "    <tr>\n",
       "      <th>2</th>\n",
       "      <td>3</td>\n",
       "      <td>15619304</td>\n",
       "      <td>Onio</td>\n",
       "      <td>502</td>\n",
       "      <td>France</td>\n",
       "      <td>Female</td>\n",
       "      <td>42</td>\n",
       "      <td>8</td>\n",
       "      <td>159660.80</td>\n",
       "      <td>3</td>\n",
       "      <td>1</td>\n",
       "      <td>0</td>\n",
       "      <td>113931.57</td>\n",
       "      <td>1</td>\n",
       "    </tr>\n",
       "    <tr>\n",
       "      <th>3</th>\n",
       "      <td>4</td>\n",
       "      <td>15701354</td>\n",
       "      <td>Boni</td>\n",
       "      <td>699</td>\n",
       "      <td>France</td>\n",
       "      <td>Female</td>\n",
       "      <td>39</td>\n",
       "      <td>1</td>\n",
       "      <td>0.00</td>\n",
       "      <td>2</td>\n",
       "      <td>0</td>\n",
       "      <td>0</td>\n",
       "      <td>93826.63</td>\n",
       "      <td>0</td>\n",
       "    </tr>\n",
       "    <tr>\n",
       "      <th>4</th>\n",
       "      <td>5</td>\n",
       "      <td>15737888</td>\n",
       "      <td>Mitchell</td>\n",
       "      <td>850</td>\n",
       "      <td>Spain</td>\n",
       "      <td>Female</td>\n",
       "      <td>43</td>\n",
       "      <td>2</td>\n",
       "      <td>125510.82</td>\n",
       "      <td>1</td>\n",
       "      <td>1</td>\n",
       "      <td>1</td>\n",
       "      <td>79084.10</td>\n",
       "      <td>0</td>\n",
       "    </tr>\n",
       "  </tbody>\n",
       "</table>\n",
       "</div>"
      ],
      "text/plain": [
       "   RowNumber  CustomerId   Surname  CreditScore Geography  Gender  Age  \\\n",
       "0          1    15634602  Hargrave          619    France  Female   42   \n",
       "1          2    15647311      Hill          608     Spain  Female   41   \n",
       "2          3    15619304      Onio          502    France  Female   42   \n",
       "3          4    15701354      Boni          699    France  Female   39   \n",
       "4          5    15737888  Mitchell          850     Spain  Female   43   \n",
       "\n",
       "   Tenure    Balance  NumOfProducts  HasCrCard  IsActiveMember  \\\n",
       "0       2       0.00              1          1               1   \n",
       "1       1   83807.86              1          0               1   \n",
       "2       8  159660.80              3          1               0   \n",
       "3       1       0.00              2          0               0   \n",
       "4       2  125510.82              1          1               1   \n",
       "\n",
       "   EstimatedSalary  Exited  \n",
       "0        101348.88       1  \n",
       "1        112542.58       0  \n",
       "2        113931.57       1  \n",
       "3         93826.63       0  \n",
       "4         79084.10       0  "
      ]
     },
     "execution_count": 4,
     "metadata": {},
     "output_type": "execute_result"
    }
   ],
   "source": [
    "dataset.head()"
   ]
  },
  {
   "cell_type": "code",
   "execution_count": 5,
   "metadata": {
    "collapsed": true
   },
   "outputs": [],
   "source": [
    "X = dataset.iloc[:, 3:13].values\n",
    "y = dataset.iloc[:, 13].values"
   ]
  },
  {
   "cell_type": "markdown",
   "metadata": {},
   "source": [
    "Preprocessing Data"
   ]
  },
  {
   "cell_type": "code",
   "execution_count": 6,
   "metadata": {
    "collapsed": true
   },
   "outputs": [],
   "source": [
    "from sklearn.preprocessing import LabelEncoder, OneHotEncoder\n",
    "labelencoder_X_1 = LabelEncoder()\n",
    "X[:, 1] = labelencoder_X_1.fit_transform(X[:, 1])\n",
    "labelencoder_X_2 = LabelEncoder()\n",
    "X[:, 2] = labelencoder_X_2.fit_transform(X[:, 2])\n",
    "onehotencoder = OneHotEncoder(categorical_features = [1])\n",
    "X = onehotencoder.fit_transform(X).toarray()\n",
    "X = X[:, 1:]"
   ]
  },
  {
   "cell_type": "markdown",
   "metadata": {},
   "source": [
    "Splitting the Data into Train-Test Set"
   ]
  },
  {
   "cell_type": "code",
   "execution_count": 7,
   "metadata": {
    "collapsed": true
   },
   "outputs": [],
   "source": [
    "from sklearn.model_selection import train_test_split\n",
    "X_train, X_test, y_train, y_test = train_test_split(X, y, test_size = 0.2, random_state = 0)\n"
   ]
  },
  {
   "cell_type": "markdown",
   "metadata": {},
   "source": [
    "Scaling the data"
   ]
  },
  {
   "cell_type": "code",
   "execution_count": 8,
   "metadata": {
    "collapsed": true
   },
   "outputs": [],
   "source": [
    "from sklearn.preprocessing import StandardScaler\n",
    "sc = StandardScaler()\n",
    "X_train = sc.fit_transform(X_train)\n",
    "X_test = sc.transform(X_test)"
   ]
  },
  {
   "cell_type": "code",
   "execution_count": 9,
   "metadata": {},
   "outputs": [
    {
     "data": {
      "text/plain": [
       "array([[-0.5698444 ,  1.74309049,  0.16958176, ...,  0.64259497,\n",
       "        -1.03227043,  1.10643166],\n",
       "       [ 1.75486502, -0.57369368, -2.30455945, ...,  0.64259497,\n",
       "         0.9687384 , -0.74866447],\n",
       "       [-0.5698444 , -0.57369368, -1.19119591, ...,  0.64259497,\n",
       "        -1.03227043,  1.48533467],\n",
       "       ..., \n",
       "       [-0.5698444 , -0.57369368,  0.9015152 , ...,  0.64259497,\n",
       "        -1.03227043,  1.41231994],\n",
       "       [-0.5698444 ,  1.74309049, -0.62420521, ...,  0.64259497,\n",
       "         0.9687384 ,  0.84432121],\n",
       "       [ 1.75486502, -0.57369368, -0.28401079, ...,  0.64259497,\n",
       "        -1.03227043,  0.32472465]])"
      ]
     },
     "execution_count": 9,
     "metadata": {},
     "output_type": "execute_result"
    }
   ],
   "source": [
    "X_train"
   ]
  },
  {
   "cell_type": "code",
   "execution_count": 10,
   "metadata": {},
   "outputs": [
    {
     "data": {
      "text/plain": [
       "array([[ 1.75486502, -0.57369368, -0.55204276, ...,  0.64259497,\n",
       "         0.9687384 ,  1.61085707],\n",
       "       [-0.5698444 , -0.57369368, -1.31490297, ...,  0.64259497,\n",
       "        -1.03227043,  0.49587037],\n",
       "       [-0.5698444 ,  1.74309049,  0.57162971, ...,  0.64259497,\n",
       "         0.9687384 , -0.42478674],\n",
       "       ..., \n",
       "       [-0.5698444 ,  1.74309049, -0.74791227, ...,  0.64259497,\n",
       "        -1.03227043,  0.71888467],\n",
       "       [ 1.75486502, -0.57369368, -0.00566991, ...,  0.64259497,\n",
       "         0.9687384 , -1.54507805],\n",
       "       [ 1.75486502, -0.57369368, -0.79945688, ...,  0.64259497,\n",
       "        -1.03227043,  1.61255917]])"
      ]
     },
     "execution_count": 10,
     "metadata": {},
     "output_type": "execute_result"
    }
   ],
   "source": [
    "X_test"
   ]
  },
  {
   "cell_type": "markdown",
   "metadata": {},
   "source": [
    "# Building the ANN"
   ]
  },
  {
   "cell_type": "code",
   "execution_count": 11,
   "metadata": {},
   "outputs": [
    {
     "name": "stderr",
     "output_type": "stream",
     "text": [
      "Using TensorFlow backend.\n"
     ]
    }
   ],
   "source": [
    "import keras\n",
    "from keras.models import Sequential\n",
    "from keras.layers import Dense"
   ]
  },
  {
   "cell_type": "markdown",
   "metadata": {},
   "source": [
    "Initializing the ANN"
   ]
  },
  {
   "cell_type": "code",
   "execution_count": 12,
   "metadata": {
    "collapsed": true
   },
   "outputs": [],
   "source": [
    "classifier=Sequential()"
   ]
  },
  {
   "cell_type": "markdown",
   "metadata": {
    "collapsed": true
   },
   "source": [
    "Adding Input layer"
   ]
  },
  {
   "cell_type": "code",
   "execution_count": 13,
   "metadata": {
    "collapsed": true
   },
   "outputs": [],
   "source": [
    "classifier.add(Dense(units=6,kernel_initializer='uniform',activation='relu',input_dim=11))"
   ]
  },
  {
   "cell_type": "markdown",
   "metadata": {},
   "source": [
    "Adding first hidden layer"
   ]
  },
  {
   "cell_type": "code",
   "execution_count": 14,
   "metadata": {
    "collapsed": true
   },
   "outputs": [],
   "source": [
    "classifier.add(Dense(units=6,kernel_initializer='uniform',activation='relu'))"
   ]
  },
  {
   "cell_type": "markdown",
   "metadata": {},
   "source": [
    "Adding output layer"
   ]
  },
  {
   "cell_type": "code",
   "execution_count": 15,
   "metadata": {
    "collapsed": true
   },
   "outputs": [],
   "source": [
    "classifier.add(Dense(units=1,kernel_initializer='uniform',activation='sigmoid'))"
   ]
  },
  {
   "cell_type": "markdown",
   "metadata": {},
   "source": [
    "Compiling The ANN"
   ]
  },
  {
   "cell_type": "code",
   "execution_count": 16,
   "metadata": {
    "collapsed": true
   },
   "outputs": [],
   "source": [
    "classifier.compile(optimizer='adam',loss='binary_crossentropy',metrics=['accuracy'])"
   ]
  },
  {
   "cell_type": "markdown",
   "metadata": {},
   "source": [
    "Fitting the ANN to the training set"
   ]
  },
  {
   "cell_type": "code",
   "execution_count": 17,
   "metadata": {},
   "outputs": [
    {
     "name": "stdout",
     "output_type": "stream",
     "text": [
      "Epoch 1/100\n",
      "8000/8000 [==============================] - 9s 1ms/step - loss: 0.4808 - acc: 0.7960\n",
      "Epoch 2/100\n",
      "8000/8000 [==============================] - 5s 670us/step - loss: 0.4264 - acc: 0.7960\n",
      "Epoch 3/100\n",
      "8000/8000 [==============================] - 5s 658us/step - loss: 0.4190 - acc: 0.8219\n",
      "Epoch 4/100\n",
      "8000/8000 [==============================] - 6s 699us/step - loss: 0.4136 - acc: 0.8302\n",
      "Epoch 5/100\n",
      "8000/8000 [==============================] - 6s 746us/step - loss: 0.4094 - acc: 0.8315\n",
      "Epoch 6/100\n",
      "8000/8000 [==============================] - 6s 787us/step - loss: 0.4064 - acc: 0.8354\n",
      "Epoch 7/100\n",
      "8000/8000 [==============================] - 5s 661us/step - loss: 0.4046 - acc: 0.8345\n",
      "Epoch 8/100\n",
      "8000/8000 [==============================] - 5s 606us/step - loss: 0.4027 - acc: 0.8335\n",
      "Epoch 9/100\n",
      "8000/8000 [==============================] - 5s 660us/step - loss: 0.4018 - acc: 0.8330\n",
      "Epoch 10/100\n",
      "8000/8000 [==============================] - 5s 665us/step - loss: 0.4003 - acc: 0.8347\n",
      "Epoch 11/100\n",
      "8000/8000 [==============================] - 5s 649us/step - loss: 0.4002 - acc: 0.8350\n",
      "Epoch 12/100\n",
      "8000/8000 [==============================] - 5s 598us/step - loss: 0.3997 - acc: 0.8349\n",
      "Epoch 13/100\n",
      "8000/8000 [==============================] - 5s 602us/step - loss: 0.3991 - acc: 0.8341\n",
      "Epoch 14/100\n",
      "8000/8000 [==============================] - 5s 626us/step - loss: 0.3985 - acc: 0.8336\n",
      "Epoch 15/100\n",
      "8000/8000 [==============================] - 5s 662us/step - loss: 0.3978 - acc: 0.8367\n",
      "Epoch 16/100\n",
      "8000/8000 [==============================] - 5s 596us/step - loss: 0.3973 - acc: 0.8354\n",
      "Epoch 17/100\n",
      "8000/8000 [==============================] - 5s 625us/step - loss: 0.3965 - acc: 0.8371\n",
      "Epoch 18/100\n",
      "8000/8000 [==============================] - 5s 615us/step - loss: 0.3967 - acc: 0.8351\n",
      "Epoch 19/100\n",
      "8000/8000 [==============================] - 5s 674us/step - loss: 0.3963 - acc: 0.8341\n",
      "Epoch 20/100\n",
      "8000/8000 [==============================] - 6s 755us/step - loss: 0.3971 - acc: 0.8349\n",
      "Epoch 21/100\n",
      "8000/8000 [==============================] - 6s 747us/step - loss: 0.3962 - acc: 0.8356 1\n",
      "Epoch 22/100\n",
      "8000/8000 [==============================] - 5s 568us/step - loss: 0.3958 - acc: 0.8362\n",
      "Epoch 23/100\n",
      "8000/8000 [==============================] - 5s 570us/step - loss: 0.3957 - acc: 0.8366\n",
      "Epoch 24/100\n",
      "8000/8000 [==============================] - 4s 525us/step - loss: 0.3955 - acc: 0.8369\n",
      "Epoch 25/100\n",
      "8000/8000 [==============================] - 4s 446us/step - loss: 0.3952 - acc: 0.8369\n",
      "Epoch 26/100\n",
      "8000/8000 [==============================] - 4s 513us/step - loss: 0.3950 - acc: 0.8362\n",
      "Epoch 27/100\n",
      "8000/8000 [==============================] - 3s 436us/step - loss: 0.3951 - acc: 0.8355\n",
      "Epoch 28/100\n",
      "8000/8000 [==============================] - 3s 393us/step - loss: 0.3945 - acc: 0.8375\n",
      "Epoch 29/100\n",
      "8000/8000 [==============================] - 3s 394us/step - loss: 0.3947 - acc: 0.8377\n",
      "Epoch 30/100\n",
      "8000/8000 [==============================] - 6s 699us/step - loss: 0.3956 - acc: 0.8365\n",
      "Epoch 31/100\n",
      "8000/8000 [==============================] - 4s 556us/step - loss: 0.3948 - acc: 0.8374\n",
      "Epoch 32/100\n",
      "8000/8000 [==============================] - 4s 553us/step - loss: 0.3943 - acc: 0.8371\n",
      "Epoch 33/100\n",
      "8000/8000 [==============================] - 4s 486us/step - loss: 0.3941 - acc: 0.8371\n",
      "Epoch 34/100\n",
      "8000/8000 [==============================] - 3s 425us/step - loss: 0.3949 - acc: 0.8355\n",
      "Epoch 35/100\n",
      "8000/8000 [==============================] - 4s 447us/step - loss: 0.3947 - acc: 0.8366\n",
      "Epoch 36/100\n",
      "8000/8000 [==============================] - 3s 432us/step - loss: 0.3942 - acc: 0.8366\n",
      "Epoch 37/100\n",
      "8000/8000 [==============================] - 4s 443us/step - loss: 0.3943 - acc: 0.8374\n",
      "Epoch 38/100\n",
      "8000/8000 [==============================] - 4s 447us/step - loss: 0.3943 - acc: 0.8376\n",
      "Epoch 39/100\n",
      "8000/8000 [==============================] - 5s 602us/step - loss: 0.3938 - acc: 0.8372\n",
      "Epoch 40/100\n",
      "8000/8000 [==============================] - 5s 565us/step - loss: 0.3936 - acc: 0.8380\n",
      "Epoch 41/100\n",
      "8000/8000 [==============================] - 4s 461us/step - loss: 0.3935 - acc: 0.8367\n",
      "Epoch 42/100\n",
      "8000/8000 [==============================] - 3s 341us/step - loss: 0.3933 - acc: 0.8377\n",
      "Epoch 43/100\n",
      "8000/8000 [==============================] - 3s 349us/step - loss: 0.3931 - acc: 0.8366\n",
      "Epoch 44/100\n",
      "8000/8000 [==============================] - 4s 487us/step - loss: 0.3928 - acc: 0.8367\n",
      "Epoch 45/100\n",
      "8000/8000 [==============================] - 4s 529us/step - loss: 0.3926 - acc: 0.8372\n",
      "Epoch 46/100\n",
      "8000/8000 [==============================] - 5s 629us/step - loss: 0.3922 - acc: 0.8379\n",
      "Epoch 47/100\n",
      "8000/8000 [==============================] - 3s 436us/step - loss: 0.3915 - acc: 0.8379\n",
      "Epoch 48/100\n",
      "8000/8000 [==============================] - 4s 509us/step - loss: 0.3899 - acc: 0.8375\n",
      "Epoch 49/100\n",
      "8000/8000 [==============================] - 4s 484us/step - loss: 0.3877 - acc: 0.8396\n",
      "Epoch 50/100\n",
      "8000/8000 [==============================] - 3s 419us/step - loss: 0.3861 - acc: 0.8372\n",
      "Epoch 51/100\n",
      "8000/8000 [==============================] - 3s 400us/step - loss: 0.3837 - acc: 0.8392\n",
      "Epoch 52/100\n",
      "8000/8000 [==============================] - 4s 523us/step - loss: 0.3808 - acc: 0.8360\n",
      "Epoch 53/100\n",
      "8000/8000 [==============================] - 5s 628us/step - loss: 0.3776 - acc: 0.8384\n",
      "Epoch 54/100\n",
      "8000/8000 [==============================] - 3s 405us/step - loss: 0.3751 - acc: 0.8379\n",
      "Epoch 55/100\n",
      "8000/8000 [==============================] - 4s 445us/step - loss: 0.3707 - acc: 0.8401\n",
      "Epoch 56/100\n",
      "8000/8000 [==============================] - 3s 406us/step - loss: 0.3668 - acc: 0.8451\n",
      "Epoch 57/100\n",
      "8000/8000 [==============================] - 3s 358us/step - loss: 0.3629 - acc: 0.8517\n",
      "Epoch 58/100\n",
      "8000/8000 [==============================] - 3s 385us/step - loss: 0.3591 - acc: 0.8504\n",
      "Epoch 59/100\n",
      "8000/8000 [==============================] - 3s 337us/step - loss: 0.3564 - acc: 0.8564\n",
      "Epoch 60/100\n",
      "8000/8000 [==============================] - 3s 334us/step - loss: 0.3557 - acc: 0.8562\n",
      "Epoch 61/100\n",
      "8000/8000 [==============================] - 3s 412us/step - loss: 0.3541 - acc: 0.8569\n",
      "Epoch 62/100\n",
      "8000/8000 [==============================] - 4s 541us/step - loss: 0.3534 - acc: 0.8582\n",
      "Epoch 63/100\n",
      "8000/8000 [==============================] - 4s 504us/step - loss: 0.3523 - acc: 0.8574\n",
      "Epoch 64/100\n",
      "8000/8000 [==============================] - 4s 500us/step - loss: 0.3524 - acc: 0.8591\n",
      "Epoch 65/100\n",
      "8000/8000 [==============================] - 4s 475us/step - loss: 0.3523 - acc: 0.8597\n",
      "Epoch 66/100\n",
      "8000/8000 [==============================] - 3s 417us/step - loss: 0.3511 - acc: 0.8611\n",
      "Epoch 67/100\n",
      "8000/8000 [==============================] - 3s 421us/step - loss: 0.3511 - acc: 0.8594\n",
      "Epoch 68/100\n",
      "8000/8000 [==============================] - 3s 404us/step - loss: 0.3507 - acc: 0.8590\n",
      "Epoch 69/100\n",
      "8000/8000 [==============================] - 4s 461us/step - loss: 0.3510 - acc: 0.8609\n",
      "Epoch 70/100\n",
      "8000/8000 [==============================] - 4s 451us/step - loss: 0.3496 - acc: 0.8591\n",
      "Epoch 71/100\n",
      "8000/8000 [==============================] - 3s 410us/step - loss: 0.3493 - acc: 0.8600\n",
      "Epoch 72/100\n",
      "8000/8000 [==============================] - 4s 456us/step - loss: 0.3498 - acc: 0.8599\n",
      "Epoch 73/100\n",
      "8000/8000 [==============================] - 3s 427us/step - loss: 0.3487 - acc: 0.8617\n",
      "Epoch 74/100\n",
      "8000/8000 [==============================] - 3s 358us/step - loss: 0.3478 - acc: 0.8611\n",
      "Epoch 75/100\n",
      "8000/8000 [==============================] - 3s 348us/step - loss: 0.3491 - acc: 0.8602\n",
      "Epoch 76/100\n",
      "8000/8000 [==============================] - 3s 355us/step - loss: 0.3476 - acc: 0.8589\n",
      "Epoch 77/100\n",
      "8000/8000 [==============================] - 3s 381us/step - loss: 0.3479 - acc: 0.8617\n",
      "Epoch 78/100\n",
      "8000/8000 [==============================] - 3s 347us/step - loss: 0.3479 - acc: 0.8585\n",
      "Epoch 79/100\n",
      "8000/8000 [==============================] - 3s 339us/step - loss: 0.3475 - acc: 0.8592\n",
      "Epoch 80/100\n",
      "8000/8000 [==============================] - 3s 369us/step - loss: 0.3477 - acc: 0.8579\n",
      "Epoch 81/100\n",
      "8000/8000 [==============================] - 3s 429us/step - loss: 0.3473 - acc: 0.8614\n",
      "Epoch 82/100\n"
     ]
    },
    {
     "name": "stdout",
     "output_type": "stream",
     "text": [
      "8000/8000 [==============================] - 3s 350us/step - loss: 0.3477 - acc: 0.8594\n",
      "Epoch 83/100\n",
      "8000/8000 [==============================] - 3s 390us/step - loss: 0.3472 - acc: 0.8617\n",
      "Epoch 84/100\n",
      "8000/8000 [==============================] - 4s 481us/step - loss: 0.3468 - acc: 0.8612\n",
      "Epoch 85/100\n",
      "8000/8000 [==============================] - 4s 496us/step - loss: 0.3465 - acc: 0.8602\n",
      "Epoch 86/100\n",
      "8000/8000 [==============================] - 4s 481us/step - loss: 0.3459 - acc: 0.8587\n",
      "Epoch 87/100\n",
      "8000/8000 [==============================] - 4s 460us/step - loss: 0.3472 - acc: 0.8585\n",
      "Epoch 88/100\n",
      "8000/8000 [==============================] - 4s 468us/step - loss: 0.3462 - acc: 0.8611\n",
      "Epoch 89/100\n",
      "8000/8000 [==============================] - 4s 485us/step - loss: 0.3465 - acc: 0.8590\n",
      "Epoch 90/100\n",
      "8000/8000 [==============================] - 4s 488us/step - loss: 0.3464 - acc: 0.8619\n",
      "Epoch 91/100\n",
      "8000/8000 [==============================] - 4s 474us/step - loss: 0.3465 - acc: 0.8607\n",
      "Epoch 92/100\n",
      "8000/8000 [==============================] - 4s 500us/step - loss: 0.3459 - acc: 0.8600\n",
      "Epoch 93/100\n",
      "8000/8000 [==============================] - 4s 471us/step - loss: 0.3454 - acc: 0.8610\n",
      "Epoch 94/100\n",
      "8000/8000 [==============================] - 4s 470us/step - loss: 0.3456 - acc: 0.8614\n",
      "Epoch 95/100\n",
      "8000/8000 [==============================] - 4s 490us/step - loss: 0.3457 - acc: 0.8601\n",
      "Epoch 96/100\n",
      "8000/8000 [==============================] - 4s 459us/step - loss: 0.3452 - acc: 0.8612\n",
      "Epoch 97/100\n",
      "8000/8000 [==============================] - 4s 456us/step - loss: 0.3451 - acc: 0.8605\n",
      "Epoch 98/100\n",
      "8000/8000 [==============================] - 4s 483us/step - loss: 0.3455 - acc: 0.8600\n",
      "Epoch 99/100\n",
      "8000/8000 [==============================] - 4s 448us/step - loss: 0.3453 - acc: 0.8597\n",
      "Epoch 100/100\n",
      "8000/8000 [==============================] - 3s 408us/step - loss: 0.3454 - acc: 0.8615\n"
     ]
    },
    {
     "data": {
      "text/plain": [
       "<keras.callbacks.History at 0x4a6fdae710>"
      ]
     },
     "execution_count": 17,
     "metadata": {},
     "output_type": "execute_result"
    }
   ],
   "source": [
    "classifier.fit(X_train,y_train,batch_size=10,epochs=100)"
   ]
  },
  {
   "cell_type": "markdown",
   "metadata": {},
   "source": [
    "## Making Predictions and Evaluating the Model"
   ]
  },
  {
   "cell_type": "markdown",
   "metadata": {},
   "source": [
    "Predicting the Test result"
   ]
  },
  {
   "cell_type": "code",
   "execution_count": 18,
   "metadata": {
    "collapsed": true
   },
   "outputs": [],
   "source": [
    "y_pred=classifier.predict(X_test)\n",
    "y_pred=(y_pred > 0.5)"
   ]
  },
  {
   "cell_type": "markdown",
   "metadata": {},
   "source": [
    "Making the confusion matrix"
   ]
  },
  {
   "cell_type": "code",
   "execution_count": 19,
   "metadata": {
    "collapsed": true
   },
   "outputs": [],
   "source": [
    "from sklearn.metrics import confusion_matrix\n",
    "cm=confusion_matrix(y_test,y_pred)"
   ]
  },
  {
   "cell_type": "code",
   "execution_count": 20,
   "metadata": {},
   "outputs": [
    {
     "data": {
      "text/plain": [
       "array([[1526,   69],\n",
       "       [ 205,  200]], dtype=int64)"
      ]
     },
     "execution_count": 20,
     "metadata": {},
     "output_type": "execute_result"
    }
   ],
   "source": [
    "cm"
   ]
  }
 ],
 "metadata": {
  "kernelspec": {
   "display_name": "Python 3",
   "language": "python",
   "name": "python3"
  },
  "language_info": {
   "codemirror_mode": {
    "name": "ipython",
    "version": 3
   },
   "file_extension": ".py",
   "mimetype": "text/x-python",
   "name": "python",
   "nbconvert_exporter": "python",
   "pygments_lexer": "ipython3",
   "version": "3.5.4"
  }
 },
 "nbformat": 4,
 "nbformat_minor": 2
}
